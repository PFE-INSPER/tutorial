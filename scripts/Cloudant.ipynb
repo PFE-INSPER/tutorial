{
 "cells": [
  {
   "cell_type": "code",
   "execution_count": 2,
   "id": "32de0fb4",
   "metadata": {},
   "outputs": [],
   "source": [
    "# !pip3 install ibmcloudant\n",
    "\n",
    "import os\n",
    "import json\n",
    "from tqdm import tqdm\n",
    "from ibm_cloud_sdk_core.authenticators import IAMAuthenticator\n",
    "from ibmcloudant.cloudant_v1 import Document, CloudantV1"
   ]
  },
  {
   "cell_type": "markdown",
   "id": "deb662cf",
   "metadata": {},
   "source": [
    "## Login"
   ]
  },
  {
   "cell_type": "code",
   "execution_count": 3,
   "id": "c8027c8f",
   "metadata": {},
   "outputs": [],
   "source": [
    "# {\n",
    "#   \"apikey\": \"H6S_Fqm9h0joZx3kSBvFmpMrcqJcf0QhxRZoY_xLgof3\",\n",
    "#   \"url\": \"https://f8358e94-16a5-4939-88b8-1ea7f953075f-bluemix.cloudantnosqldb.appdomain.cloud\",\n",
    "# }\n",
    "\n",
    "apikey = \"H6S_Fqm9h0joZx3kSBvFmpMrcqJcf0QhxRZoY_xLgof3\" \n",
    "url = \"https://f8358e94-16a5-4939-88b8-1ea7f953075f-bluemix.cloudantnosqldb.appdomain.cloud\"\n",
    "\n",
    "authenticator = IAMAuthenticator(f'{apikey}')\n",
    "service = CloudantV1(authenticator=authenticator)\n",
    "service.set_service_url(f'{url}')"
   ]
  },
  {
   "cell_type": "markdown",
   "id": "471c90fb",
   "metadata": {},
   "source": [
    "## Post Document"
   ]
  },
  {
   "cell_type": "code",
   "execution_count": 4,
   "id": "ba306da6",
   "metadata": {},
   "outputs": [
    {
     "name": "stderr",
     "output_type": "stream",
     "text": [
      "100%|██████████████████████████████████████████████████████████████████████████| 24995/24995 [1:25:05<00:00,  4.90it/s]"
     ]
    },
    {
     "name": "stdout",
     "output_type": "stream",
     "text": [
      "Wall time: 1h 25min 5s\n"
     ]
    },
    {
     "name": "stderr",
     "output_type": "stream",
     "text": [
      "\n"
     ]
    }
   ],
   "source": [
    "%%time\n",
    "for i in tqdm(range(5, 25_000)):\n",
    "    with open(os.path.join(os.getcwd(), 'dados', f'news_{i}.json'), 'rb') as fileinfo:\n",
    "        f = json.load(fileinfo)    \n",
    "        news_doc = Document(\n",
    "            id=str(i),\n",
    "            enrichments= f['enrichments'],\n",
    "            classification = f['classification'],\n",
    "            title= f['title'],\n",
    "            text= f['text'],\n",
    "            date= f['data'],\n",
    "            link= f['link'],\n",
    "            category = f['category']\n",
    "        )\n",
    "\n",
    "        response = service.post_document(db='noticias-db', document=news_doc).get_result()"
   ]
  },
  {
   "cell_type": "markdown",
   "id": "131ae3e1",
   "metadata": {},
   "source": [
    "## Teste Query"
   ]
  },
  {
   "cell_type": "code",
   "execution_count": null,
   "id": "fc926d28",
   "metadata": {},
   "outputs": [],
   "source": [
    "response = service.post_search(\n",
    "    db='noticias-db',\n",
    "    ddoc='index0',\n",
    "    index='AllData',\n",
    "    query='São Paulo~ OR presidente~',\n",
    ").get_result()\n",
    "response"
   ]
  }
 ],
 "metadata": {
  "kernelspec": {
   "display_name": "Python 3",
   "language": "python",
   "name": "python3"
  },
  "language_info": {
   "codemirror_mode": {
    "name": "ipython",
    "version": 3
   },
   "file_extension": ".py",
   "mimetype": "text/x-python",
   "name": "python",
   "nbconvert_exporter": "python",
   "pygments_lexer": "ipython3",
   "version": "3.8.9"
  }
 },
 "nbformat": 4,
 "nbformat_minor": 5
}
